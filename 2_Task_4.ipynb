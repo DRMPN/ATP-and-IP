{
  "nbformat": 4,
  "nbformat_minor": 0,
  "metadata": {
    "colab": {
      "provenance": []
    },
    "kernelspec": {
      "display_name": "Python 3",
      "language": "python",
      "name": "python3"
    },
    "language_info": {
      "codemirror_mode": {
        "name": "ipython",
        "version": 3
      },
      "file_extension": ".py",
      "mimetype": "text/x-python",
      "name": "python",
      "nbconvert_exporter": "python",
      "pygments_lexer": "ipython3",
      "version": "3.7.6"
    }
  },
  "cells": [
    {
      "cell_type": "markdown",
      "metadata": {
        "id": "xDqKfDTzf7zH"
      },
      "source": [
        "Меняем ссылку по заданию и синсет\n",
        "\n"
      ]
    },
    {
      "cell_type": "code",
      "metadata": {
        "id": "ESN-KTI6f0hH"
      },
      "source": [
        "file_URL = \"https://courses.openedu.ru/assets/courseware/v1/ee4f6518b25436284f5051b5ad58f6e9/asset-v1:ITMOUniversity+AUTXTIMGPROC+spring_2023_ITMO_mag+type@asset+block/Task_4_sample_13.csv\"\n",
        "synset_task = \"dollar.n.01\""
      ],
      "execution_count": null,
      "outputs": []
    },
    {
      "cell_type": "markdown",
      "metadata": {
        "id": "xr_sF716hQcE"
      },
      "source": [
        "Запускаем код"
      ]
    },
    {
      "cell_type": "code",
      "metadata": {
        "colab": {
          "base_uri": "https://localhost:8080/"
        },
        "id": "YhTQ6EFXZ5R9",
        "outputId": "e739be20-7d26-487f-8149-5cd5087c1fa5"
      },
      "source": [
        "import nltk\n",
        "import urllib\n",
        "from itertools import product\n",
        "from scipy.stats import spearmanr\n",
        "from nltk.corpus import wordnet as wn\n",
        "\n",
        "file = urllib.request.urlopen(file_URL)\n",
        "nltk.download('wordnet', quiet=True)\n",
        "nltk.download('omw', quiet=True)\n",
        "\n",
        "triples = [line.decode(\"utf-8\").strip().split(\",\") for line in file]\n",
        "triples.pop(0)\n",
        "score_map = {tuple(triple[:2]): float(triple[2]) for triple in triples}\n",
        "\n",
        "list_pairs = list(score_map)\n",
        "wup_list, true_list, path_list, lch_list = [], [], [], []\n",
        "\n",
        "for w1, w2 in list_pairs:\n",
        "\n",
        "  try:\n",
        "    all_w1 = wn.synsets(w1, pos=\"n\")\n",
        "    all_w2 = wn.synsets(w2, pos=\"n\")\n",
        "\n",
        "    wup = max([item1.wup_similarity(item2) for item1, item2 in product(all_w1, all_w2)])\n",
        "    wup_list.append(wup)\n",
        "\n",
        "    lch = max([item1.lch_similarity(item2) for item1, item2 in product(all_w1, all_w2)])\n",
        "    lch_list.append(lch)\n",
        "\n",
        "    path = max([item1.path_similarity(item2) for item1, item2 in product(all_w1, all_w2)])\n",
        "    path_list.append(path)\n",
        "    \n",
        "    true_list.append(score_map[(w1, w2)])\n",
        "\n",
        "  except Exception as e:\n",
        "    print(w1, w2, \"error:\", e)\n",
        "\n",
        "coef, p = spearmanr(path_list, true_list)\n",
        "print(\"path Spearman R: %.3f\" % coef)\n",
        "\n",
        "coef, p = spearmanr(lch_list, true_list)\n",
        "print(\"lch  Spearman R: %.3f\" % coef)\n",
        "\n",
        "coef, p = spearmanr(wup_list, true_list)\n",
        "print(\"wup  Spearman R: %.3f\" % coef)\n",
        "print()\n",
        "\n",
        "relative = wn.synset(synset_task)\n",
        "print(\"Название синсета:\", relative.hyponyms()[0].name())\n",
        "print(\"Кол-во синсетов:\", len(relative.hyponyms()))"
      ],
      "execution_count": null,
      "outputs": [
        {
          "output_type": "stream",
          "name": "stdout",
          "text": [
            "path Spearman R: 0.625\n",
            "lch  Spearman R: 0.625\n",
            "wup  Spearman R: 0.634\n",
            "\n",
            "Название синсета: australian_dollar.n.01\n",
            "Кол-во синсетов: 23\n"
          ]
        }
      ]
    }
  ]
}