{
  "nbformat": 4,
  "nbformat_minor": 0,
  "metadata": {
    "colab": {
      "provenance": []
    },
    "kernelspec": {
      "display_name": "Python 3",
      "language": "python",
      "name": "python3"
    },
    "language_info": {
      "codemirror_mode": {
        "name": "ipython",
        "version": 3
      },
      "file_extension": ".py",
      "mimetype": "text/x-python",
      "name": "python",
      "nbconvert_exporter": "python",
      "pygments_lexer": "ipython3",
      "version": "3.7.6"
    }
  },
  "cells": [
    {
      "cell_type": "markdown",
      "metadata": {
        "id": "LQp47ajD2Ga4"
      },
      "source": [
        "# Знакомство с word2vec\n"
      ]
    },
    {
      "cell_type": "markdown",
      "metadata": {
        "id": "6ql9heI0qKQy"
      },
      "source": [
        "Меняем значения по заданию"
      ]
    },
    {
      "cell_type": "code",
      "metadata": {
        "id": "xco5RI0epJdk"
      },
      "source": [
        "task1 = [\"vodka\", \"drink\"]\n",
        "task2 = \"vodka drink car gem\"\n",
        "task3 = [\"empty vessel makes much noise\", \"idle brain is the devil workshop\"]\n",
        "indexs = [28, 128]"
      ],
      "execution_count": null,
      "outputs": []
    },
    {
      "cell_type": "markdown",
      "metadata": {
        "id": "WholvM8gqNAN"
      },
      "source": [
        "Скачиваем данные (будет долго)\n",
        "\n"
      ]
    },
    {
      "cell_type": "code",
      "metadata": {
        "colab": {
          "base_uri": "https://localhost:8080/"
        },
        "id": "nd-xNyAGy1tT",
        "outputId": "5bfaf4fd-9295-4421-850d-e26a62fade7a"
      },
      "source": [
        "! pip install -q -U gensim\n",
        "! gdown --id 0B7XkCwpI5KDYNlNUTTlSS21pQmM\n",
        "! pip install -q SciPy==1.5.4\n",
        "! gunzip GoogleNews-vectors-negative300.bin.gz\n",
        "\n",
        "! wget -c http://vectors.nlpl.eu/repository/20/0.zip\n",
        "! unzip 0.zip\n",
        "! head -3 model.txt\n",
        "\n",
        "import warnings\n",
        "import gensim\n",
        "from gensim.models import KeyedVectors\n",
        "warnings.filterwarnings('ignore')"
      ],
      "execution_count": null,
      "outputs": [
        {
          "output_type": "stream",
          "name": "stdout",
          "text": [
            "/usr/local/lib/python3.10/dist-packages/gdown/cli.py:121: FutureWarning: Option `--id` was deprecated in version 4.3.1 and will be removed in 5.0. You don't need to pass it anymore to use a file ID.\n",
            "  warnings.warn(\n",
            "Downloading...\n",
            "From: https://drive.google.com/uc?id=0B7XkCwpI5KDYNlNUTTlSS21pQmM\n",
            "To: /content/GoogleNews-vectors-negative300.bin.gz\n",
            "100% 1.65G/1.65G [00:06<00:00, 258MB/s]\n",
            "  \u001b[1;31merror\u001b[0m: \u001b[1msubprocess-exited-with-error\u001b[0m\n",
            "  \n",
            "  \u001b[31m×\u001b[0m \u001b[32mpip subprocess to install build dependencies\u001b[0m did not run successfully.\n",
            "  \u001b[31m│\u001b[0m exit code: \u001b[1;36m1\u001b[0m\n",
            "  \u001b[31m╰─>\u001b[0m See above for output.\n",
            "  \n",
            "  \u001b[1;35mnote\u001b[0m: This error originates from a subprocess, and is likely not a problem with pip.\n",
            "  Installing build dependencies ... \u001b[?25l\u001b[?25herror\n",
            "\u001b[1;31merror\u001b[0m: \u001b[1msubprocess-exited-with-error\u001b[0m\n",
            "\n",
            "\u001b[31m×\u001b[0m \u001b[32mpip subprocess to install build dependencies\u001b[0m did not run successfully.\n",
            "\u001b[31m│\u001b[0m exit code: \u001b[1;36m1\u001b[0m\n",
            "\u001b[31m╰─>\u001b[0m See above for output.\n",
            "\n",
            "\u001b[1;35mnote\u001b[0m: This error originates from a subprocess, and is likely not a problem with pip.\n",
            "--2023-05-02 12:20:48--  http://vectors.nlpl.eu/repository/20/0.zip\n",
            "Resolving vectors.nlpl.eu (vectors.nlpl.eu)... 129.240.189.181\n",
            "Connecting to vectors.nlpl.eu (vectors.nlpl.eu)|129.240.189.181|:80... connected.\n",
            "HTTP request sent, awaiting response... 200 OK\n",
            "Length: 344050746 (328M) [application/zip]\n",
            "Saving to: ‘0.zip’\n",
            "\n",
            "0.zip               100%[===================>] 328.11M  17.3MB/s    in 20s     \n",
            "\n",
            "2023-05-02 12:21:10 (16.2 MB/s) - ‘0.zip’ saved [344050746/344050746]\n",
            "\n",
            "Archive:  0.zip\n",
            "  inflating: meta.json               \n",
            "  inflating: model.bin               \n",
            "  inflating: model.txt               \n",
            "  inflating: README                  \n",
            "163473 300\n",
            "say_VERB -0.008861 0.097097 0.100236 0.070044 -0.079279 0.000923 -0.012829 0.064301 -0.029405 -0.009858 -0.017753 0.063115 0.033623 0.019805 0.052704 -0.100458 0.089387 -0.040792 -0.088936 0.110212 -0.044749 0.077675 -0.017062 -0.063745 -0.009502 -0.079371 0.066952 -0.070209 0.063761 -0.038194 -0.046252 0.049983 -0.094985 -0.086341 0.024665 -0.112857 -0.038358 -0.007008 -0.010063 -0.000183 0.068841 0.024942 -0.042561 -0.044576 0.010776 0.006323 0.088285 -0.062522 0.028216 0.088291 0.033231 -0.033732 -0.002995 0.118994 0.000453 0.158588 -0.044475 -0.137629 0.066080 0.062824 -0.128369 -0.087959 0.028080 0.070063 0.046700 -0.083278 -0.118428 0.071118 0.100757 0.017944 0.026296 0.017282 -0.082127 -0.006148 0.002967 -0.032857 -0.076493 -0.072842 -0.055179 -0.081703 0.011437 -0.038698 -0.062540 -0.027899 0.087635 0.031870 0.029164 0.000524 -0.039895 -0.055559 0.024582 -0.030595 0.003942 -0.034500 0.003012 -0.023863 0.033831 0.061476 -0.090183 -0.039206 -0.026586 -0.042763 0.049835 -0.052496 -0.020044 0.073703 0.096775 0.033063 0.000313 -0.022581 -0.141154 0.032095 0.077733 -0.063739 -0.055647 -0.017604 0.044639 -0.062925 -0.001960 0.024665 -0.009416 -0.021381 0.082724 -0.031026 0.027255 0.066198 0.000845 0.008393 0.039434 0.054104 -0.060255 0.034266 0.079435 0.043624 -0.015871 -0.038030 -0.030374 -0.020542 0.007132 0.008708 0.087840 0.017351 -0.089493 0.030182 0.026961 -0.071212 -0.004854 0.007389 0.067203 -0.026351 -0.011460 -0.058723 0.013153 -0.020313 -0.051170 0.002242 0.088222 -0.004267 -0.073523 -0.021874 -0.033585 -0.048553 -0.019119 -0.025310 0.053096 0.111063 0.035042 -0.082811 -0.073749 -0.010048 0.012265 -0.023893 -0.125340 0.026611 0.043258 -0.010473 -0.044428 -0.039251 -0.046891 -0.013008 0.062219 0.078732 -0.086303 0.016901 0.010331 -0.043754 -0.057733 -0.037964 0.024907 0.068143 -0.019992 -0.035030 0.038854 0.034345 -0.048839 -0.105419 0.043013 -0.023374 -0.077629 -0.076465 0.078564 -0.024519 0.041293 -0.032088 -0.007053 0.022618 -0.004657 -0.093970 -0.000199 0.004813 -0.044789 -0.127900 -0.033516 -0.043816 0.033056 -0.057619 0.004901 0.018863 0.039752 0.000739 -0.136350 -0.067819 -0.014856 0.058351 -0.014275 -0.000873 -0.039388 -0.017191 -0.051184 -0.046863 0.006143 -0.075998 -0.064695 0.046676 -0.020558 0.082474 0.160449 -0.027475 0.009541 -0.021876 0.027416 0.078049 0.089309 0.032928 -0.033272 0.048905 0.061164 0.054811 0.024527 -0.034978 -0.018083 -0.077601 0.034112 -0.021121 0.098856 0.019585 -0.058928 -0.016126 -0.011748 0.031588 0.003205 -0.077483 -0.002372 -0.113548 0.047445 -0.027094 -0.032843 0.042378 -0.074703 0.057001 0.012020 0.131156 0.002080 -0.065770 0.112443 0.047786 0.024492 -0.108401 0.016836 0.001478 0.041542 -0.067801 0.102876 -0.052808 -0.136035 0.073852 0.079966 -0.000586 0.034055 -0.053040 0.050461 -0.021550 0.014827 0.077605 -0.024783 -0.082388 0.074410 -0.033689 -0.010982 0.043733\n",
            "go_VERB 0.010490 0.094733 0.143699 0.040344 -0.103710 -0.000016 -0.014351 0.019653 0.069472 -0.046938 -0.057882 0.076405 -0.025230 0.026663 0.029986 -0.001605 -0.027803 0.037521 -0.050608 0.016215 0.025947 0.061172 -0.037448 -0.079232 0.071731 -0.085143 0.021494 -0.135554 -0.026115 -0.066408 0.022858 0.083231 0.020998 -0.049906 -0.079992 -0.060827 -0.028916 -0.029005 0.026067 -0.074869 0.073802 0.023593 -0.024348 -0.093236 0.006169 0.013119 0.007817 -0.088096 -0.012373 0.099807 0.011438 0.028583 0.025614 0.175403 0.007033 0.038856 0.004040 -0.088907 0.079697 0.037448 -0.128230 -0.066502 -0.018969 0.025777 0.035905 0.003710 -0.089079 0.071521 0.039237 0.052136 0.020986 -0.030793 -0.069486 -0.137115 0.008305 0.020813 -0.155342 0.000619 -0.033499 -0.104162 -0.061528 -0.043877 -0.042524 -0.032872 0.045071 0.072908 0.096057 0.141987 -0.078056 -0.013102 -0.026589 -0.073783 0.114807 0.077389 -0.041879 -0.052886 0.053710 0.036806 -0.035973 0.049071 -0.107199 -0.043581 0.016515 -0.029278 -0.026228 0.068037 -0.024183 0.040984 -0.020469 -0.103833 -0.007225 -0.073788 -0.051063 -0.037850 0.052581 -0.053090 -0.012198 -0.057343 0.024050 -0.046498 0.003065 -0.058912 0.043695 0.006340 0.060953 -0.008608 -0.029686 0.081187 -0.020058 0.059240 -0.061306 -0.002190 -0.020671 0.076712 0.049087 0.001153 0.087481 0.008559 0.069936 -0.015886 0.006122 0.038000 -0.071984 0.005263 0.060463 -0.051217 -0.034060 0.045217 0.059163 -0.048462 -0.005371 0.009663 0.081303 0.051019 -0.001248 -0.022637 0.016228 -0.006395 -0.053985 -0.014513 -0.017219 -0.010658 -0.012446 -0.035279 -0.003882 0.036453 0.029681 0.021278 0.006188 0.027861 0.076864 -0.042835 -0.022834 0.013928 0.066150 0.040982 -0.110985 -0.018865 0.006675 0.019173 0.021484 -0.021977 -0.035462 0.000464 -0.024281 0.010881 -0.064037 -0.024893 -0.095968 0.020834 -0.114225 -0.023433 -0.043971 0.014273 0.013481 -0.007542 0.079197 0.021280 -0.129871 0.080770 0.028912 -0.044134 -0.019904 -0.039406 -0.076024 0.058488 -0.094331 -0.082633 0.017676 -0.084006 -0.024444 -0.049778 -0.044615 -0.013499 -0.036736 -0.038579 -0.117319 0.012026 -0.007846 0.024003 -0.101645 0.111720 -0.010241 0.050279 -0.002212 0.060056 -0.116837 0.006078 -0.017954 -0.021794 0.020252 -0.031337 -0.032407 0.081086 -0.095125 0.041699 0.015953 -0.045653 -0.022522 -0.021422 -0.029167 0.052594 0.016523 0.081598 -0.027877 0.000609 0.012837 0.011880 0.074220 0.009736 0.006465 -0.140252 0.010762 -0.038319 0.038924 0.042537 0.005027 0.014024 0.024548 0.050131 -0.048069 -0.012616 -0.052162 -0.100378 0.067741 -0.067824 -0.020692 -0.043022 -0.038036 -0.016860 0.027835 0.140990 -0.045201 -0.069347 0.174518 -0.000236 0.008150 -0.039823 0.041197 0.056322 0.085883 0.027376 0.036537 0.094723 -0.103076 0.105746 0.059074 0.010947 0.099756 -0.027213 0.128793 -0.054593 0.025890 0.053512 0.005200 -0.035256 0.063273 -0.027069 0.046354 -0.002262\n"
          ]
        }
      ]
    },
    {
      "cell_type": "code",
      "source": [
        "w = KeyedVectors.load_word2vec_format(\"GoogleNews-vectors-negative300.bin\", binary=True)\n",
        "w_british = KeyedVectors.load_word2vec_format(\"model.bin\", binary=True)"
      ],
      "metadata": {
        "id": "sVXwpacWXVIk"
      },
      "execution_count": null,
      "outputs": []
    },
    {
      "cell_type": "markdown",
      "metadata": {
        "id": "ctIxdgafqUBC"
      },
      "source": [
        "Запускаем код"
      ]
    },
    {
      "cell_type": "code",
      "metadata": {
        "id": "-4xfcycMynhZ",
        "colab": {
          "base_uri": "https://localhost:8080/"
        },
        "outputId": "93b66e0a-c8ed-4fcf-916a-46a0a6921265"
      },
      "source": [
        "import numpy as np\n",
        "import pandas as pd\n",
        "import scipy.spatial.distance\n",
        "from scipy.stats import spearmanr\n",
        "\n",
        "# Задание 1\n",
        "print(\"Задание 1:\")\n",
        "print(\"GN: %.3f\" % w.distance(task1[0], task1[1]))\n",
        "print(\"BR: %.3f\" % w_british.distance(task1[0] + \"_NOUN\", task1[1] + \"_NOUN\"))\n",
        "print()\n",
        "\n",
        "# Задание 2\n",
        "print(\"Задание 2:\")\n",
        "text = task2.split()\n",
        "text_NOUN = []\n",
        "for i in text:\n",
        "  text_NOUN.append(i + \"_NOUN\")\n",
        "\n",
        "print(\"GN:\", w.doesnt_match(text))\n",
        "print(\"BR:\", w_british.doesnt_match(text_NOUN).replace(\"_NOUN\", \"\"))\n",
        "print()\n",
        "\n",
        "# Задание 3\n",
        "print(\"Задание 3:\")\n",
        "\n",
        "text_split = task3[0].split()\n",
        "text2_split = task3[1].split()\n",
        "wtf = {}\n",
        "wtf2 = {}\n",
        "new_wtf = []\n",
        "new_wtf2 = []\n",
        "\n",
        "for j in range(300):\n",
        "  for i in text_split:\n",
        "    if j not in wtf.keys():\n",
        "      wtf[j] = []\n",
        "    wtf[j].append(w[i][j])\n",
        "\n",
        "for i in wtf:\n",
        "  new_wtf.append(np.mean(wtf[i]))\n",
        "\n",
        "for j in range(300):\n",
        "  for i in text2_split:\n",
        "    if j not in wtf2.keys():\n",
        "      wtf2[j] = []\n",
        "    wtf2[j].append(w[i][j])\n",
        "\n",
        "for i in wtf2:\n",
        "  new_wtf2.append(np.mean(wtf2[i]))\n",
        "\n",
        "print(\"Косинусное растояние GN: %.3f\" % scipy.spatial.distance.cosine(new_wtf, new_wtf2))\n",
        "print()\n",
        "\n",
        "# Задание 4\n",
        "print(\"Задание 4:\")\n",
        "df = pd.read_csv(\"https://courses.openedu.ru/assets/courseware/v1/e5d93a68121655b8f04aea15b89c130a/asset-v1:ITMOUniversity+AUTTEXTAN+fall_2021_ITMO+type@asset+block/wordsim_similarity_goldstandard.txt\", sep=\"\\t\", header=None)\n",
        "df.columns = [\"first\", \"second\", \"score\"]\n",
        "gn_dist, br_dist, scores = [], [], []\n",
        "count = 0\n",
        "in_c = 0\n",
        "\n",
        "for row in df.iterrows():\n",
        "  if indexs[0] > in_c or in_c > indexs[1] - 1:\n",
        "    in_c += 1\n",
        "    continue\n",
        "  in_c += 1\n",
        "    \n",
        "  w1, w2, s = row[1][\"first\"], row[1][\"second\"], row[1][\"score\"]\n",
        "\n",
        "  try:\n",
        "    w_british[w1.lower() + \"_NOUN\"]\n",
        "    w_british[w2.lower() + \"_NOUN\"]\n",
        "\n",
        "    gn_dist.append(w.similarity(w1, w2))\n",
        "    br_dist.append(w_british.similarity(w1.lower() + \"_NOUN\", w2.lower() + \"_NOUN\"))\n",
        "    scores.append(s)\n",
        "    \n",
        "  except KeyError as e:\n",
        "    count += 1\n",
        "    #print(e, \"Skipping this word.\")\n",
        "\n",
        "coef, p = spearmanr(gn_dist, scores)\n",
        "print(\"GN: %.3f\" % coef)\n",
        "coef, p = spearmanr(br_dist, scores)\n",
        "print(\"BR: %.3f\" % coef)\n",
        "print(\"Удалено пар:\", count)\n",
        "print()"
      ],
      "execution_count": null,
      "outputs": [
        {
          "output_type": "stream",
          "name": "stdout",
          "text": [
            "Задание 1:\n",
            "GN: 0.428\n",
            "BR: 0.411\n",
            "\n",
            "Задание 2:\n",
            "GN: gem\n",
            "BR: gem\n",
            "\n",
            "Задание 3:\n",
            "Косинусное растояние GN: 0.572\n",
            "\n",
            "Задание 4:\n",
            "GN: 0.707\n",
            "BR: 0.673\n",
            "Удалено пар: 2\n",
            "\n"
          ]
        }
      ]
    }
  ]
}