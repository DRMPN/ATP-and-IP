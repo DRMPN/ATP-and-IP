{
  "nbformat": 4,
  "nbformat_minor": 0,
  "metadata": {
    "kernelspec": {
      "display_name": "Python 3",
      "language": "python",
      "name": "python3"
    },
    "language_info": {
      "codemirror_mode": {
        "name": "ipython",
        "version": 3
      },
      "file_extension": ".py",
      "mimetype": "text/x-python",
      "name": "python",
      "nbconvert_exporter": "python",
      "pygments_lexer": "ipython3",
      "version": "3.7.6"
    },
    "colab": {
      "provenance": []
    }
  },
  "cells": [
    {
      "cell_type": "markdown",
      "metadata": {
        "id": "TAyzWDzFdnLa"
      },
      "source": [
        "## Классификация текстов: Spam or Ham"
      ]
    },
    {
      "cell_type": "markdown",
      "metadata": {
        "id": "sh91cKPmdnLb"
      },
      "source": [
        "Меняем значения по заданию"
      ]
    },
    {
      "cell_type": "code",
      "metadata": {
        "id": "VryYXzjfac0N"
      },
      "source": [
        "test_size = 0.25\n",
        "random_state = 1\n",
        "C = 1.1\n",
        "\n",
        "msg = [\"Poorly written I'm giving up on this book.\",\n",
        "       \"Screw this self-help industry crap.\",\n",
        "       \"Hello, I have a special offer for you… WANT TO LOSE WEIGHT? The most powerful weightloss is now available without prescription. All natural Adipren720 100% Money Back Guarantee!\",\n",
        "       \"So the summer has flown by - today a new school year begins. Ahead - new students and pupils; knowledge, discoveries and accomplishments, checking abstracts and coursework, conducting colloquiums and exams.\"]"
      ],
      "execution_count": null,
      "outputs": []
    },
    {
      "cell_type": "markdown",
      "metadata": {
        "id": "lWvXDXKrdnLb"
      },
      "source": [
        "Запускаем код"
      ]
    },
    {
      "cell_type": "code",
      "metadata": {
        "id": "UnJwvQzbdnLb",
        "colab": {
          "base_uri": "https://localhost:8080/"
        },
        "outputId": "dbed5f86-d015-49f7-8a74-a27bd45e5bdc"
      },
      "source": [
        "import pandas as pd\n",
        "import nltk\n",
        "from nltk import stem\n",
        "from nltk.corpus import stopwords\n",
        "from nltk.stem import SnowballStemmer\n",
        "from nltk.tokenize import word_tokenize\n",
        "from sklearn.model_selection import train_test_split\n",
        "from sklearn.feature_extraction.text import TfidfVectorizer, CountVectorizer\n",
        "from sklearn.svm import LinearSVC\n",
        "from sklearn.metrics import precision_recall_fscore_support\n",
        "import re\n",
        "\n",
        "df = pd.read_csv('https://courses.openedu.ru/assets/courseware/v1/008dcf9ca6aab621d3b3831db6815867/asset-v1:ITMOUniversity+AUTTEXTAN+fall_2021_ITMO+type@asset+block/3_data.csv', encoding='latin-1')\n",
        "df = df[['v1', 'v2']]\n",
        "df = df.rename(columns = {'v1': 'label', 'v2': 'text'})\n",
        "df = df.drop_duplicates('text')\n",
        "df['label'] = df['label'].map({'ham': 0, 'spam': 1})\n",
        "\n",
        "nltk.download(\"stopwords\", quiet=True)\n",
        "nltk.download('punkt', quiet=True)\n",
        "stemmer = SnowballStemmer(\"english\")\n",
        "stopwords = set(stopwords.words('english'))\n",
        "\n",
        "def preprocess(text):\n",
        "    text = re.sub(r'[^\\w\\s]', '', text.lower())\n",
        "    text_tokens = text.split(\" \")\n",
        "    tokens_without_sw = [stemmer.stem(word) for word in text_tokens if not word in stopwords]\n",
        "    return (\" \").join(tokens_without_sw)\n",
        "\n",
        "df['text'] = df['text'].apply(preprocess)\n",
        "y = df['label'].values\n",
        "X_train, X_test, y_train, y_test = train_test_split(df['text'], y, test_size=test_size, random_state=random_state)\n",
        "\n",
        "vectorizer = TfidfVectorizer(decode_error='ignore')\n",
        "X_train = vectorizer.fit_transform(X_train)\n",
        "X_test = vectorizer.transform(X_test)\n",
        "\n",
        "#обучаем подель SVM\n",
        "\n",
        "model = LinearSVC(random_state = random_state, C = C)\n",
        "model.fit(X_train, y_train)\n",
        "predictions = model.predict(X_test)\n",
        "\n",
        "precision, recall, f1score, support = precision_recall_fscore_support(y_test, predictions)\n",
        "print(\"Precision (macro avg): %.3f\" %(sum(precision)/len(precision)))\n",
        "print(\"Recall (macro avg): %.3f\" %(sum(recall)/len(recall)))\n",
        "print(\"F-score (macro avg): %.3f\" %(sum(f1score)/len(f1score)))\n",
        "print()\n",
        "\n",
        "# Задание 2\n",
        "print(\"%s\\t%s\" %(\"Предикт\", \"Сообщение\"))\n",
        "for i in msg:\n",
        "  print(\"%d\\t%s\" %(model.predict(vectorizer.transform([preprocess(i)])[0]), i))"
      ],
      "execution_count": null,
      "outputs": [
        {
          "output_type": "stream",
          "name": "stdout",
          "text": [
            "Precision (macro avg): 0.971\n",
            "Recall (macro avg): 0.916\n",
            "F-score (macro avg): 0.941\n",
            "\n",
            "Предикт\tСообщение\n",
            "0\tPoorly written I'm giving up on this book.\n",
            "0\tScrew this self-help industry crap.\n",
            "0\tHello, I have a special offer for you… WANT TO LOSE WEIGHT? The most powerful weightloss is now available without prescription. All natural Adipren720 100% Money Back Guarantee!\n",
            "0\tSo the summer has flown by - today a new school year begins. Ahead - new students and pupils; knowledge, discoveries and accomplishments, checking abstracts and coursework, conducting colloquiums and exams.\n"
          ]
        }
      ]
    }
  ]
}