{
  "nbformat": 4,
  "nbformat_minor": 0,
  "metadata": {
    "colab": {
      "provenance": []
    },
    "kernelspec": {
      "display_name": "Python 3",
      "language": "python",
      "name": "python3"
    },
    "language_info": {
      "codemirror_mode": {
        "name": "ipython",
        "version": 3
      },
      "file_extension": ".py",
      "mimetype": "text/x-python",
      "name": "python",
      "nbconvert_exporter": "python",
      "pygments_lexer": "ipython3",
      "version": "3.7.6"
    }
  },
  "cells": [
    {
      "cell_type": "markdown",
      "metadata": {
        "id": "Vd_ST0GfO97y"
      },
      "source": [
        "# Информационный поиск\n",
        "\n",
        "Заменяем текст запроса по заданию"
      ]
    },
    {
      "cell_type": "code",
      "metadata": {
        "id": "d6Uze9jOV9EO"
      },
      "source": [
        "QUERIES = ['electronic computer', 'surface heat']"
      ],
      "execution_count": null,
      "outputs": []
    },
    {
      "cell_type": "markdown",
      "metadata": {
        "id": "4etK3pClWELD"
      },
      "source": [
        "Скачиваем данные"
      ]
    },
    {
      "cell_type": "code",
      "metadata": {
        "colab": {
          "base_uri": "https://localhost:8080/"
        },
        "id": "AHflLH2APAHK",
        "outputId": "a46e4e2a-388f-4f35-c3c6-9cc6a79ef972"
      },
      "source": [
        "! wget -q http://ir.dcs.gla.ac.uk/resources/test_collections/cran/cran.tar.gz\n",
        "! tar -xvf cran.tar.gz\n",
        "! rm cran.tar.gz*\n",
        "! grep -v \"^\\.\" cran.qry > just.qry\n",
        "! head -3 just.qry\n",
        "! pip install -q scikit-learn==0.22.2.post1"
      ],
      "execution_count": null,
      "outputs": [
        {
          "output_type": "stream",
          "name": "stdout",
          "text": [
            "cran.all.1400\n",
            "cran.qry\n",
            "cranqrel\n",
            "cranqrel.readme\n",
            "what similarity laws must be obeyed when constructing aeroelastic models\n",
            "of heated high speed aircraft .\n",
            "what are the structural and aeroelastic problems associated with flight\n",
            "\u001b[2K     \u001b[90m━━━━━━━━━━━━━━━━━━━━━━━━━━━━━━━━━━━━━━━━\u001b[0m \u001b[32m6.9/6.9 MB\u001b[0m \u001b[31m47.2 MB/s\u001b[0m eta \u001b[36m0:00:00\u001b[0m\n",
            "\u001b[?25h  Preparing metadata (setup.py) ... \u001b[?25l\u001b[?25hdone\n",
            "  Building wheel for scikit-learn (setup.py) ... \u001b[?25l\u001b[?25hdone\n",
            "\u001b[31mERROR: pip's dependency resolver does not currently take into account all the packages that are installed. This behaviour is the source of the following dependency conflicts.\n",
            "imbalanced-learn 0.10.1 requires scikit-learn>=1.0.2, but you have scikit-learn 0.22.2.post1 which is incompatible.\n",
            "sklearn-pandas 2.2.0 requires scikit-learn>=0.23.0, but you have scikit-learn 0.22.2.post1 which is incompatible.\n",
            "yellowbrick 1.5 requires scikit-learn>=1.0.0, but you have scikit-learn 0.22.2.post1 which is incompatible.\u001b[0m\u001b[31m\n",
            "\u001b[0m"
          ]
        }
      ]
    },
    {
      "cell_type": "markdown",
      "metadata": {
        "id": "zddS-EsnWP6U"
      },
      "source": [
        "Запускаем код"
      ]
    },
    {
      "cell_type": "code",
      "source": [
        "from  sklearn.feature_extraction.text import CountVectorizer\n",
        "from  sklearn.feature_extraction.text import TfidfVectorizer\n",
        "import numpy as np\n",
        "import scipy.spatial.distance as ds \n",
        "import warnings"
      ],
      "metadata": {
        "id": "d223f-xJDqN6"
      },
      "execution_count": null,
      "outputs": []
    },
    {
      "cell_type": "code",
      "source": [
        "warnings.filterwarnings(\"ignore\")\n",
        "\n",
        "def cosine_distance(vector_a: np.array, vector_b: np.array) -> float:\n",
        "  return ds.cosine(vector_a, vector_b)\n",
        "\n",
        "#Проверка, что функция работает правильно\n",
        "assert cosine_distance(np.array([1, 0, 1, 1, 1]), np.array([0, 0, 1, 0, 0])) == 0.5\n",
        "\n",
        "def jaccard_sim(vector_a: np.array, vector_b: np.array) -> float:\n",
        "  vector_a = np.asarray(vector_a, np.bool)\n",
        "  vector_b = np.asarray(vector_b, np.bool)\n",
        "  return np.double(np.bitwise_and(vector_a, vector_b).sum()) / np.double(np.bitwise_or(vector_a, vector_b).sum())\n",
        "\n",
        "#Проверка, что функция работает правильно\n",
        "assert jaccard_sim(np.array([1, 0, 1, 0, 1]), np.array([0, 1, 1, 1, 1])) == 0.4"
      ],
      "metadata": {
        "id": "E3lCuxesDpnX"
      },
      "execution_count": null,
      "outputs": []
    },
    {
      "cell_type": "code",
      "metadata": {
        "colab": {
          "base_uri": "https://localhost:8080/"
        },
        "id": "SBaV3xeQiUam",
        "outputId": "eb663a07-cf09-4480-8dea-8d7cf6f0ece2"
      },
      "source": [
        "raw_query_data = [line.strip() for line in open(\"just.qry\", \"r\").readlines()]\n",
        "query_data = [\"\"]\n",
        "\n",
        "for query_part in raw_query_data:\n",
        "  query_data[-1] += query_part + \" \"\n",
        "  if query_part.endswith(\".\"):\n",
        "    query_data.append(\"\")\n",
        "\n",
        "encoder = CountVectorizer(binary=True)\n",
        "encoded_data = encoder.fit_transform(query_data)\n",
        "encoded_queries = encoder.transform(QUERIES)\n",
        "\n",
        "id2term = {idx: term for term, idx in encoder.vocabulary_.items()}\n",
        "non_zero_values_ids = encoded_data[0].nonzero()[1]\n",
        "\n",
        "terms = [id2term[idx] for idx in non_zero_values_ids]\n",
        "\n",
        "print(\"По мера Жаккара:\")\n",
        "for q_id, query in enumerate(encoded_queries):\n",
        "  query = query.todense().A1\n",
        "  docs = [doc.todense().A1 for doc in encoded_data]\n",
        "  id2doc2similarity = [(doc_id, doc, jaccard_sim(query, doc)) for doc_id, doc in enumerate(docs)]\n",
        "  closest = sorted(id2doc2similarity, key=lambda x: x[2], reverse=True)\n",
        "  \n",
        "  print(\"Q: %s:\" %(QUERIES[q_id]))\n",
        "  print(\"    %s\\t%s\" %(\"ID\", \"Коэффициент\"))\n",
        "  for closest_id, _, sim in closest[:2]:\n",
        "    print(\"    %d\\t%.2f\" %(closest_id, sim))\n",
        "\n",
        "print()\n",
        "\n",
        "# Второе задание\n",
        "tfidf_encoder = TfidfVectorizer()\n",
        "tfidf_encoded_data = tfidf_encoder.fit_transform(query_data)\n",
        "tfidf_encoded_queries = tfidf_encoder.transform(QUERIES)\n",
        "\n",
        "print(\"Косинустное расстояние:\")\n",
        "for q_id, query in enumerate(tfidf_encoded_queries):\n",
        "  \n",
        "  # приводим к нужному типу\n",
        "  query = query.todense().A1\n",
        "  docs = [doc.todense().A1 for doc in tfidf_encoded_data]\n",
        "  # Косинусное расстояние\n",
        "  id2doc2similarity = [(doc_id, doc, cosine_distance(query, doc)) \\\n",
        "                       for doc_id, doc in enumerate(docs)]\n",
        "  # сортируем по нему\n",
        "  closest = sorted(id2doc2similarity, key=lambda x: x[2], reverse=False)\n",
        "  \n",
        "  print(\"Q: %s\\nFOUND:\" % QUERIES[q_id])\n",
        "  \n",
        "  for closest_id, _, sim in closest[:3]:\n",
        "    print(\"    %d\\t%.2f\\t%s\" %(closest_id, sim, query_data[closest_id]))"
      ],
      "execution_count": null,
      "outputs": [
        {
          "output_type": "stream",
          "name": "stdout",
          "text": [
            "По мера Жаккара:\n",
            "Q: electronic computer:\n",
            "    ID\tКоэффициент\n",
            "    15\t0.12\n",
            "    128\t0.08\n",
            "Q: surface heat:\n",
            "    ID\tКоэффициент\n",
            "    45\t0.14\n",
            "    8\t0.11\n",
            "\n",
            "Косинустное расстояние:\n",
            "Q: electronic computer\n",
            "FOUND:\n",
            "    226\t0.00\t\n",
            "    15\t0.53\tcan the transverse potential flow about a body of revolution be calculated efficiently by an electronic computer . \n",
            "    128\t0.76\thas anyone programmed a pump design method for a high-speed digital computer . \n",
            "Q: surface heat\n",
            "FOUND:\n",
            "    226\t0.00\t\n",
            "    45\t0.56\twhat is the combined effect of surface heat and mass transfer on hypersonic flow . \n",
            "    44\t0.76\thas anyone investigated the effect of surface mass transfer on hypersonic viscous interactions . \n"
          ]
        }
      ]
    }
  ]
}